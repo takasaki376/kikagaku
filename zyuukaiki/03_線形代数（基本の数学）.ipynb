{
 "cells": [
  {
   "cell_type": "markdown",
   "metadata": {},
   "source": [
    "#  線形代数"
   ]
  },
  {
   "cell_type": "markdown",
   "metadata": {},
   "source": [
    "## スカラー、ベクトル、行列"
   ]
  },
  {
   "cell_type": "markdown",
   "metadata": {},
   "source": [
    "### スカラーとは？\n",
    "\n",
    "スカラー（scalar）は1、5、1.2、-7などの通常の数値のことである。\n",
    "\n",
    "数式におけるアルファベット、もしくはギリシャ文字の小文字はスカラーを表すものとする。（例: $a$、$p$、$\\alpha$、$\\gamma$）  "
   ]
  },
  {
   "cell_type": "markdown",
   "metadata": {},
   "source": [
    "### ベクトルとは？\n",
    "\n",
    "ベクトルは、スカラーを直線上に並べたものです。\n",
    "\n",
    "アルファベットの小文字に矢印を乗せたものでベクトルを表します。以下はベクトルの表記の例です。\n",
    "\n",
    "$$ \\begin{aligned}\n",
    "\\vec{a} & = \\left(\n",
    "    \\begin{array}{c}\n",
    "      1 \\\\\n",
    "      2 \\\\\n",
    "      3\n",
    "    \\end{array}\n",
    " \\right) \\\\\n",
    " \\vec{p} & = \\left(\n",
    "    \\begin{array}{c}\n",
    "      p_1 \\\\\n",
    "      p_2 \\\\\n",
    "      \\vdots \\\\\n",
    "      p_m\n",
    "    \\end{array}\n",
    " \\right) \\\\\n",
    "\\end{aligned} $$\n",
    "\n",
    "\n",
    "また、転置を行うと、下記のように縦横を入れ替える。\n",
    "$$ \\begin{aligned}\n",
    "\\vec{a}^T & = \\left(\n",
    "    \\begin{array}{ccc}\n",
    "      1 & 2 & 3\n",
    "    \\end{array}\n",
    " \\right) \\\\\n",
    " \\end{aligned} $$"
   ]
  },
  {
   "cell_type": "markdown",
   "metadata": {},
   "source": [
    "### 行列とは？\n",
    "\n",
    "行列はスカラーを格子状に並べたものである。\n",
    "\n",
    "アルファベット大文字のイタリックで行列を表します。以下は行列の表記の例です。  \n",
    "\n",
    "$$\n",
    "   A = \\left(\n",
    "    \\begin{array}{ccc}\n",
    "      0 & 1 & 2 \\\\\n",
    "      3 & 4 & 5 \\\\\n",
    "    \\end{array}\n",
    "  \\right)\n",
    "$$\n",
    "$$\n",
    "   P = \\left(\n",
    "    \\begin{array}{cccc}\n",
    "      p_{11} & p_{12} & \\ldots & p_{1n} \\\\\n",
    "      p_{21} & p_{22} & \\ldots & p_{2n} \\\\\n",
    "      \\vdots & \\vdots & \\ddots & \\vdots \\\\\n",
    "      p_{m1} & p_{m2} & \\ldots & p_{mn} \\\\\n",
    "    \\end{array}\n",
    "  \\right) \n",
    "$$\n",
    "\n",
    "行列$A$は2x3の行列で、行列$P$はm x nの行列です。  \n",
    "また、$P$に見られるように、行列の要素を変数で表す際の添字の数は2つです。\n"
   ]
  },
  {
   "cell_type": "markdown",
   "metadata": {},
   "source": [
    "### スカラー、ベクトル、行列の実装"
   ]
  },
  {
   "cell_type": "code",
   "execution_count": 81,
   "metadata": {},
   "outputs": [
    {
     "name": "stdout",
     "output_type": "stream",
     "text": [
      "スカラー： 1\n",
      "\n",
      "ベクトル： [1 2 3]\n",
      "\n",
      "行列： [[1 2 3]\n",
      " [4 5 6]]\n"
     ]
    }
   ],
   "source": [
    "import numpy as np\n",
    "\n",
    "# スカラー\n",
    "a = 1  \n",
    "print('スカラー：',a)\n",
    "print()\n",
    "\n",
    "# ベクトル\n",
    "a = np.array([1, 2, 3]) \n",
    "print('ベクトル：',a)\n",
    "print()\n",
    "\n",
    "# 2x3の行列\n",
    "a = np.array([[1, 2, 3],\n",
    "              [4, 5, 6]])  \n",
    "print('行列：',a)"
   ]
  },
  {
   "cell_type": "markdown",
   "metadata": {},
   "source": [
    "## 変数の表記について"
   ]
  },
  {
   "cell_type": "markdown",
   "metadata": {},
   "source": [
    "小文字で細字：スカラーの変数 \\\n",
    "大文字で細字：スカラーの定数 \\\n",
    "小文字で太字：ベクトルの変数 \\\n",
    "大文字で太字：行列"
   ]
  },
  {
   "cell_type": "markdown",
   "metadata": {},
   "source": [
    "## 行列の演算"
   ]
  },
  {
   "cell_type": "markdown",
   "metadata": {},
   "source": [
    "### ベクトルの足し算"
   ]
  },
  {
   "cell_type": "markdown",
   "metadata": {},
   "source": [
    "$$ \\begin{aligned}\n",
    "\\left(\n",
    "    \\begin{array}{c}\n",
    "      1 \\\\\n",
    "      2 \\\\\n",
    "      3\n",
    "    \\end{array}\n",
    "\\right)  +  \\left(\n",
    "    \\begin{array}{c}\n",
    "      4 \\\\\n",
    "      5 \\\\\n",
    "      6\n",
    "    \\end{array}\n",
    " \\right) =  \\left(\n",
    "    \\begin{array}{cc}\n",
    "      1 & + & 4 \\\\\n",
    "      2 & + & 5 \\\\\n",
    "      3 & + & 6\n",
    "    \\end{array}\n",
    " \\right) =  \\left(\n",
    "    \\begin{array}{c}\n",
    "      5 \\\\\n",
    "      7 \\\\\n",
    "      9\n",
    "    \\end{array}\n",
    " \\right) \n",
    "\\end{aligned} $$"
   ]
  },
  {
   "cell_type": "markdown",
   "metadata": {},
   "source": [
    "### ベクトルの引き算"
   ]
  },
  {
   "cell_type": "markdown",
   "metadata": {},
   "source": [
    "$$ \\begin{aligned}\n",
    "\\left(\n",
    "    \\begin{array}{c}\n",
    "      1 \\\\\n",
    "      2 \\\\\n",
    "      3\n",
    "    \\end{array}\n",
    "\\right)  -  \\left(\n",
    "    \\begin{array}{c}\n",
    "      6 \\\\\n",
    "      5 \\\\\n",
    "      4\n",
    "    \\end{array}\n",
    " \\right) =  \\left(\n",
    "    \\begin{array}{cc}\n",
    "      1 & - & 6 \\\\\n",
    "      2 & - & 5 \\\\\n",
    "      3 & - & 4\n",
    "    \\end{array}\n",
    " \\right) =  \\left(\n",
    "    \\begin{array}{c}\n",
    "      -5 \\\\\n",
    "      -3 \\\\\n",
    "      -1\n",
    "    \\end{array}\n",
    " \\right) \n",
    "\\end{aligned} $$"
   ]
  },
  {
   "cell_type": "markdown",
   "metadata": {},
   "source": [
    "### 行列の足し算"
   ]
  },
  {
   "cell_type": "markdown",
   "metadata": {},
   "source": [
    "$$ \\begin{aligned}\n",
    "\\left(\n",
    "    \\begin{array}{ccc}\n",
    "      1 & 2 & 3 \\\\\n",
    "      4 & 5 & 6 \n",
    "    \\end{array}\n",
    "\\right)  +  \\left(\n",
    "    \\begin{array}{ccc}\n",
    "      7 & 8 & 9 \\\\\n",
    "      10 & 11 & 12 \n",
    "    \\end{array}\n",
    " \\right) =  \\left(\n",
    "    \\begin{array}{ccc}\n",
    "      1+7  & 2+8  & 3+9 \\\\\n",
    "      4+10 & 5+11 & 6+12\n",
    "    \\end{array}\n",
    " \\right) =  \\left(\n",
    "    \\begin{array}{ccc}\n",
    "      8  & 10 & 12 \\\\\n",
    "      14 & 16 & 18\n",
    "    \\end{array}\n",
    " \\right) \n",
    "\\end{aligned} $$"
   ]
  },
  {
   "cell_type": "markdown",
   "metadata": {},
   "source": [
    "#### ポイント\n",
    "\n",
    "サイズが同じであることが計算できる条件"
   ]
  },
  {
   "cell_type": "markdown",
   "metadata": {},
   "source": [
    "### 行列の演算の実装"
   ]
  },
  {
   "cell_type": "code",
   "execution_count": 82,
   "metadata": {},
   "outputs": [
    {
     "name": "stdout",
     "output_type": "stream",
     "text": [
      "元の値： [1 2 3]\n",
      "元の値： [4 5 6]\n",
      "ベクトルの足し算 [5 7 9]\n",
      "----------\n",
      "元の値： [1 2 3]\n",
      "元の値： [6 5 4]\n",
      "ベクトルの引き算 [-5 -3 -1]\n",
      "----------\n",
      "元の値： [1 2 3]\n",
      "元の値： [6 5 4]\n",
      "ベクトルの掛け算 [ 6 10 12]\n",
      "----------\n",
      "元の値： [[1 2 3]\n",
      " [4 5 6]]\n",
      "元の値： [[ 7  8  9]\n",
      " [10 11 12]]\n",
      "行列の足し算 [[ 8 10 12]\n",
      " [14 16 18]]\n"
     ]
    }
   ],
   "source": [
    "# ベクトルの足し算\n",
    "a = np.array([1, 2, 3]) \n",
    "b = np.array([4, 5, 6]) \n",
    "print('元の値：',a)\n",
    "print('元の値：',b)\n",
    "print('ベクトルの足し算',a + b)\n",
    "print('----------')\n",
    "\n",
    "# ベクトルの引き算\n",
    "a = np.array([1, 2, 3]) \n",
    "b = np.array([6, 5, 4]) \n",
    "print('元の値：',a)\n",
    "print('元の値：',b)\n",
    "print('ベクトルの引き算',a - b)\n",
    "print('----------')\n",
    "\n",
    "# ベクトルの掛け算\n",
    "print('元の値：',a)\n",
    "print('元の値：',b)\n",
    "print('ベクトルの掛け算',a * b)\n",
    "print('----------')\n",
    "\n",
    "# 行列の足し算\n",
    "A = np.array([[1, 2, 3],\n",
    "              [4, 5, 6]])\n",
    "B = np.array([[7, 8, 9],\n",
    "              [10,11,12]])  \n",
    "print('元の値：',A)\n",
    "print('元の値：',B)\n",
    "print('行列の足し算',A + B)"
   ]
  },
  {
   "cell_type": "markdown",
   "metadata": {},
   "source": [
    "### 行列積"
   ]
  },
  {
   "cell_type": "markdown",
   "metadata": {},
   "source": [
    "$$ \\begin{aligned}\n",
    "\\left(\n",
    "    \\begin{array}{cc}\n",
    "      1 & 2  \\\\\n",
    "      3 & 4  \n",
    "    \\end{array}\n",
    "\\right)   \\left(\n",
    "    \\begin{array}{cc}\n",
    "      5 & 6 \\\\\n",
    "      7 & 8 \n",
    "    \\end{array}\n",
    " \\right) =  \\left(\n",
    "    \\begin{array}{cc}\n",
    "      1\\times 5+2\\times 7 & 1\\times 6+2\\times 8 \\\\\n",
    "      3\\times 5+4\\times 7 & 3\\times 6+4\\times 8\n",
    "    \\end{array}\n",
    " \\right) =  \\left(\n",
    "    \\begin{array}{cc}\n",
    "      19 & 22 \\\\\n",
    "      43 & 50\n",
    "    \\end{array}\n",
    " \\right) \n",
    "\\end{aligned} $$"
   ]
  },
  {
   "cell_type": "markdown",
   "metadata": {},
   "source": [
    "※行列積の場合は、「×」を記述しない。 \\\n",
    "$\\left(\n",
    "    \\begin{array}{cc}\n",
    "      1 & 2  \\\\\n",
    "      3 & 4  \n",
    "    \\end{array}\n",
    "\\right) \\times  \\left(\n",
    "    \\begin{array}{cc}\n",
    "      5 & 6 \\\\\n",
    "      7 & 8 \n",
    "    \\end{array}\n",
    " \\right)$と記載すると、足し算や引き算と同じやり方で各項目の掛け算を行う。"
   ]
  },
  {
   "cell_type": "markdown",
   "metadata": {},
   "source": [
    "#### ポイント\n",
    "\n",
    "行列Ａと行列Ｂの行列積を求めるためには、Ａの列数とＢの行数が一致することが条件である。 \\\n",
    "また、計算結果はＡの行数×Ｂの列数の行列が作成される。"
   ]
  },
  {
   "cell_type": "markdown",
   "metadata": {},
   "source": [
    "## 重回帰分析でよく使う計算"
   ]
  },
  {
   "cell_type": "markdown",
   "metadata": {},
   "source": [
    "（１）１行ｎ列のベクトルと、ｎ行１列のベクトルとの行列積は、必ず**スカラー**となる。\n",
    "\n",
    "$$ \\begin{aligned}\n",
    "\\left(\n",
    "    \\begin{array}{cc}\n",
    "      1 & 2  \n",
    "    \\end{array}\n",
    "\\right)   \\left(\n",
    "    \\begin{array}{c}\n",
    "      3  \\\\\n",
    "      4  \n",
    "    \\end{array}\n",
    " \\right) =  \\left(\n",
    "    \\begin{array}{c}\n",
    "      1\\times 3+2\\times 4 \n",
    "    \\end{array}\n",
    " \\right) =  11\n",
    "\\end{aligned} $$\n",
    "\n",
    "\n",
    "公式（１）　**$ \\vec{a}^T \\vec{b}$ はスカラー**"
   ]
  },
  {
   "cell_type": "markdown",
   "metadata": {},
   "source": [
    "（２）行列とベクトルの行列積は、必ず**ベクトル**となる。\n",
    "\n",
    "$$ \\begin{aligned}\n",
    "\\left(\n",
    "    \\begin{array}{cc}\n",
    "      1 & 2  \\\\\n",
    "      3 & 4  \n",
    "    \\end{array}\n",
    "\\right)   \\left(\n",
    "    \\begin{array}{c}\n",
    "      5 \\\\\n",
    "      6 \n",
    "    \\end{array}\n",
    " \\right) =  \\left(\n",
    "    \\begin{array}{c}\n",
    "      1\\times 5+2\\times 6 \\\\\n",
    "      3\\times 5+4\\times 6 \n",
    "    \\end{array}\n",
    " \\right) =  \\left(\n",
    "    \\begin{array}{c}\n",
    "      17  \\\\\n",
    "      39 \n",
    "    \\end{array}\n",
    " \\right) \n",
    "\\end{aligned} $$\n",
    "\n",
    "公式（２）　**$X \\vec{b}$ はベクトル**"
   ]
  },
  {
   "cell_type": "markdown",
   "metadata": {},
   "source": [
    "（３）１行ｎ列のベクトルと、ｎ行ｎ列の行列と、ｎ行１列のベクトルとの行列積は、必ず**スカラー**となる。\n",
    "\n",
    "$$ \\begin{aligned}\n",
    "\\left(\n",
    "    \\begin{array}{cc}\n",
    "      1 &  2\n",
    "    \\end{array}\n",
    "\\right)   \\left(\n",
    "    \\begin{array}{cc}\n",
    "      3 & 4 \\\\\n",
    "      5 & 6\n",
    "    \\end{array}\n",
    " \\right)  \\left(\n",
    "    \\begin{array}{c}\n",
    "      3  \\\\\n",
    "      1 \n",
    "    \\end{array}\n",
    " \\right)  &=  \\left(\n",
    "    \\begin{array}{cc}\n",
    "      1 & 2\n",
    "    \\end{array}\n",
    "\\right) \\left(\n",
    "    \\begin{array}{c}\n",
    "      3\\times 3+4\\times 1 \\\\\n",
    "      5\\times 3+6\\times 1 \n",
    "    \\end{array}\n",
    " \\right) \\\\\n",
    "  &=  \\left(\n",
    "    \\begin{array}{cc}\n",
    "      1 & 2\n",
    "    \\end{array}\n",
    "\\right) \\left(\n",
    "    \\begin{array}{c}\n",
    "      13 \\\\\n",
    "      21 \n",
    "    \\end{array}\n",
    " \\right) \\\\\n",
    " &=  \\left(\n",
    "    \\begin{array}{c}\n",
    "      1\\times 13+2\\times 21\n",
    "    \\end{array}\n",
    " \\right) \\\\\n",
    " &= 55\n",
    "\\end{aligned} $$\n",
    "\n",
    "公式（３） **$ \\vec{a}^T B \\vec{c}$ はスカラー**"
   ]
  },
  {
   "cell_type": "markdown",
   "metadata": {},
   "source": [
    "### 行列積の実装"
   ]
  },
  {
   "cell_type": "code",
   "execution_count": 83,
   "metadata": {},
   "outputs": [
    {
     "name": "stdout",
     "output_type": "stream",
     "text": [
      "元の値： [1 2]\n",
      "元の値： [[3]\n",
      " [4]]\n",
      "行列積 [11]\n",
      "----------\n",
      "元の値： [[1 2]\n",
      " [3 4]]\n",
      "元の値： [[5]\n",
      " [6]]\n",
      "行列積 [[17]\n",
      " [39]]\n",
      "----------\n",
      "元の値： [1 2]\n",
      "元の値： [[3 4]\n",
      " [5 6]]\n",
      "元の値： [[3]\n",
      " [1]]\n",
      "行列積 [55]\n",
      "行列積 [55]\n"
     ]
    }
   ],
   "source": [
    "a = np.array([1, 2])\n",
    "b = np.array([[3], [4]])  \n",
    "print('元の値：',a)\n",
    "print('元の値：',b)\n",
    "print('行列積',np.dot(a ,b))\n",
    "print('----------')\n",
    "\n",
    "A = np.array([[1, 2],\n",
    "              [3, 4]])\n",
    "b = np.array([[5], [6]])  \n",
    "print('元の値：',A)\n",
    "print('元の値：',b)\n",
    "print('行列積',np.dot(A, b))\n",
    "print('----------')\n",
    "\n",
    "a = np.array([1, 2])\n",
    "B = np.array([[3, 4],\n",
    "              [5, 6]])\n",
    "c = np.array([[3], [1]])  \n",
    "print('元の値：',a)\n",
    "print('元の値：',B)\n",
    "print('元の値：',c)\n",
    "print('行列積', np.dot(a ,np.dot(B, c)))\n",
    "print('行列積', np.dot(np.dot(a ,B) ,c))"
   ]
  },
  {
   "cell_type": "markdown",
   "metadata": {},
   "source": [
    "## 転置"
   ]
  },
  {
   "cell_type": "markdown",
   "metadata": {},
   "source": [
    "ベクトルの場合は、縦横が入れ替わる。\n",
    "\n",
    "$$ \\begin{aligned}\n",
    "\\vec{a} &= \\left(\n",
    "    \\begin{array}{c}\n",
    "      1 \\\\\n",
    "      2 \\\\\n",
    "      3\n",
    "    \\end{array}\n",
    " \\right) \\\\\n",
    " \\vec{a}^T &= \\left(\n",
    "    \\begin{array}{ccc}\n",
    "      1 & 2 & 3\n",
    "    \\end{array}\n",
    " \\right) \\\\\n",
    " \\end{aligned} $$"
   ]
  },
  {
   "cell_type": "markdown",
   "metadata": {},
   "source": [
    "行列の場合は、\n",
    "\n",
    "$$ \\begin{aligned}\n",
    "X&=\\left(\n",
    "    \\begin{array}{ccc}\n",
    "      1 & 2 & 3 \\\\\n",
    "      4 & 5 & 6 \n",
    "    \\end{array}\n",
    "\\right) \\\\\n",
    "X^T&=\\left(\n",
    "    \\begin{array}{cc}\n",
    "      1 & 4 \\\\\n",
    "      2 & 5 \\\\\n",
    "      3 & 6 \n",
    "    \\end{array}\n",
    "\\right) \n",
    " \\end{aligned} $$"
   ]
  },
  {
   "cell_type": "markdown",
   "metadata": {},
   "source": [
    "###  転置の公式"
   ]
  },
  {
   "cell_type": "markdown",
   "metadata": {},
   "source": [
    "（４） $ \\left(A^T\\right)^T=A $ \\\n",
    "\\\n",
    "（５） $ \\left(AB\\right)^T=B^TA^T $ \\\n",
    "\\\n",
    "（６） $ \\left(ABC\\right)^T=C^TB^TA^T $ "
   ]
  },
  {
   "cell_type": "markdown",
   "metadata": {},
   "source": [
    "転置の実装"
   ]
  },
  {
   "cell_type": "code",
   "execution_count": 84,
   "metadata": {},
   "outputs": [
    {
     "name": "stdout",
     "output_type": "stream",
     "text": [
      "宣言時 [[1 2 3]\n",
      " [4 5 6]]\n",
      "転置後 [[1 4]\n",
      " [2 5]\n",
      " [3 6]]\n",
      "-----------------\n",
      "転置後にもう一度転置 [[1 2 3]\n",
      " [4 5 6]]\n",
      "-----------------\n",
      "行列積の転置 [[ 58 139]\n",
      " [ 64 154]]\n",
      "転置後の行列積 [[ 58 139]\n",
      " [ 64 154]]\n",
      "-----------------\n"
     ]
    }
   ],
   "source": [
    "A = np.array([[1, 2, 3],\n",
    "              [4, 5, 6]])\n",
    "print('宣言時',A)\n",
    "print('転置後',A.T)\n",
    "print('-----------------')\n",
    "\n",
    "B=A.T\n",
    "print('転置後にもう一度転置',B.T)\n",
    "print('-----------------')\n",
    "\n",
    "B = np.array([[7, 8],\n",
    "              [9, 10],\n",
    "              [11,12]])\n",
    "C = np.dot(A ,B)\n",
    "print('行列積の転置',C.T)\n",
    "print('転置後の行列積',np.dot(B.T ,A.T))\n",
    "print('-----------------')"
   ]
  },
  {
   "cell_type": "markdown",
   "metadata": {},
   "source": [
    "## 単位行列"
   ]
  },
  {
   "cell_type": "markdown",
   "metadata": {},
   "source": [
    "スカラーの１に相当する行列である。\n",
    "\n",
    "$$ \\begin{aligned}\n",
    "I&=\\left(\n",
    "    \\begin{array}{cccc}\n",
    "      1 & 0 & \\ldots & 0 \\\\\n",
    "      0 & 1 & \\ldots & 0 \\\\\n",
    "      \\vdots & \\vdots & \\ddots & \\vdots \\\\\n",
    "      0 & 0 & \\ldots & 1 \\\\\n",
    "    \\end{array}\n",
    "\\right) \\\\\n",
    "\\end{aligned} $$"
   ]
  },
  {
   "cell_type": "markdown",
   "metadata": {},
   "source": [
    "### 単位行列の公式"
   ]
  },
  {
   "cell_type": "markdown",
   "metadata": {},
   "source": [
    "（７） $ AI=A $ \\\n",
    "\\\n",
    "（８） $ IA=A $ "
   ]
  },
  {
   "cell_type": "markdown",
   "metadata": {},
   "source": [
    "## 単位行列の実装"
   ]
  },
  {
   "cell_type": "code",
   "execution_count": 85,
   "metadata": {},
   "outputs": [
    {
     "name": "stdout",
     "output_type": "stream",
     "text": [
      "単位行列 [[1. 0. 0.]\n",
      " [0. 1. 0.]\n",
      " [0. 0. 1.]]\n",
      "-----------------\n",
      "元の値： [[1 2 3]\n",
      " [4 5 6]\n",
      " [7 8 9]]\n",
      "行列×単位行列： [[1. 2. 3.]\n",
      " [4. 5. 6.]\n",
      " [7. 8. 9.]]\n",
      "単位行列×行列： [[1. 2. 3.]\n",
      " [4. 5. 6.]\n",
      " [7. 8. 9.]]\n"
     ]
    }
   ],
   "source": [
    "# ３行３列の単位行列\n",
    "I=np.eye(3)\n",
    "print('単位行列',I)\n",
    "print('-----------------')\n",
    "\n",
    "A = np.array([[1, 2, 3],\n",
    "              [4, 5, 6],\n",
    "              [7, 8, 9]])\n",
    "print('元の値：',A)\n",
    "print('行列×単位行列：',np.dot(A , I))\n",
    "print('単位行列×行列：',np.dot(I , A))"
   ]
  },
  {
   "cell_type": "markdown",
   "metadata": {},
   "source": [
    "## 逆行列"
   ]
  },
  {
   "cell_type": "markdown",
   "metadata": {},
   "source": [
    "スカラーの逆数にあたる内容である。例として、２の逆数は $\\frac{1}{2}$である。（答えが１になる値）\n",
    "\n",
    "行列の場合は、単位行列となる値である。（下記の$A^{-1}$は「エーインバース」と読む）\n",
    "\n",
    "$$ \\begin{aligned}\n",
    " AA^{-1}=I \\\\\n",
    " A^{-1}A=I\n",
    "\\end{aligned} $$\n",
    "\n",
    "\n",
    "逆行列が求まる条件 \\\n",
    "①正方行列であること。 （正方行列でない場合は、エラーになる）\n"
   ]
  },
  {
   "cell_type": "markdown",
   "metadata": {},
   "source": [
    "## ベクトルの微分"
   ]
  },
  {
   "cell_type": "markdown",
   "metadata": {},
   "source": [
    "例（１）\n",
    "\n",
    "$$ \\begin{aligned}\n",
    "\\vec{c} &= \\left(\n",
    "    \\begin{array}{c}\n",
    "      3 \\\\\n",
    "      4\n",
    "    \\end{array}\n",
    " \\right) \\\\\n",
    " \\vec{x} &= \\left(\n",
    "    \\begin{array}{c}\n",
    "      x_1 \\\\\n",
    "      x_2\n",
    "    \\end{array}\n",
    " \\right) \\\\\n",
    "  \\end{aligned} $$\n",
    " \n",
    "の時に $\\vec{c}^T\\vec{x}$ に対して、$\\vec{x}$ で微分する。\n",
    "\n",
    "$$ \\begin{aligned}\n",
    "  \\vec{c}^T\\vec{x} &= \\left(\n",
    "    \\begin{array}{cc}\n",
    "      3 & 4\n",
    "    \\end{array}\n",
    "  \\right) \n",
    "  \\left(\n",
    "    \\begin{array}{c}\n",
    "      x_1 \\\\\n",
    "      x_2\n",
    "    \\end{array}\n",
    "  \\right) \\\\\n",
    "  &= 3  x_1 + 4  x_2 \\\\\n",
    "  \\\\\n",
    "  \\\\\n",
    "  \\frac{\\partial}{\\partial \\vec{x}}(\\vec{c}^T\\vec{x})\n",
    "  &=\\left(\n",
    "    \\begin{array}{c}\n",
    "      \\frac{\\partial}{\\partial x_1}(3  x_1 + 4  x_2) \\\\\n",
    "      \\frac{\\partial}{\\partial x_2}(3  x_1 + 4  x_2)\n",
    "    \\end{array}\n",
    "  \\right) \\\\\n",
    "  \\\\\n",
    "  \\\\\n",
    "  \\frac{\\partial}{\\partial x_1}(3  x_1 + 4  x_2)\n",
    "  &= \\frac{\\partial}{\\partial x_1}(3x_1) + \\frac{\\partial}{\\partial x_1}(4x_2) \\\\\n",
    "  &= 3 \\\\\n",
    "  \\\\\n",
    "  \\\\\n",
    "  \\frac{\\partial}{\\partial x_2}(3  x_1 + 4  x_2)\n",
    "  &= \\frac{\\partial}{\\partial x_2}(3x_1) + \\frac{\\partial}{\\partial x_2}(4x_2) \\\\\n",
    "  &= 4 \\\\\n",
    "  \\\\\n",
    "  \\\\\n",
    "  \\frac{\\partial}{\\partial \\vec{x}}(\\vec{c}^T\\vec{x}) \n",
    "  &=\\left(\n",
    "    \\begin{array}{c}\n",
    "      3 \\\\\n",
    "      4\n",
    "    \\end{array}\n",
    "  \\right) \\\\\n",
    "\\end{aligned} $$"
   ]
  },
  {
   "cell_type": "markdown",
   "metadata": {},
   "source": [
    "### 公式  (The Matrix Cookbook 　公式が載ったPDF　2.4章)"
   ]
  },
  {
   "cell_type": "markdown",
   "metadata": {},
   "source": [
    "（９） $ \\frac{\\partial}{\\partial \\vec{x}}(\\vec{c}) = \\vec{0} $ \\\n",
    "\\\n",
    "（１０） $ \\frac{\\partial}{\\partial \\vec{x}}(\\vec{c}^T\\vec{x})= \\vec{c} $ \\\n",
    "\\\n",
    "（１１） $  \\frac{\\partial}{\\partial \\vec{x}}(\\vec{x}^TA\\vec{x})= (A + A^T)\\vec{x} $ "
   ]
  },
  {
   "cell_type": "code",
   "execution_count": null,
   "metadata": {},
   "outputs": [],
   "source": []
  }
 ],
 "metadata": {
  "kernelspec": {
   "display_name": "Python 3",
   "language": "python",
   "name": "python3"
  },
  "language_info": {
   "codemirror_mode": {
    "name": "ipython",
    "version": 3
   },
   "file_extension": ".py",
   "mimetype": "text/x-python",
   "name": "python",
   "nbconvert_exporter": "python",
   "pygments_lexer": "ipython3",
   "version": "3.7.1"
  }
 },
 "nbformat": 4,
 "nbformat_minor": 4
}
